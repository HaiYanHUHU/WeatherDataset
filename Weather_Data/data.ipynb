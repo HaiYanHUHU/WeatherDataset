{
 "cells": [
  {
   "cell_type": "code",
   "id": "initial_id",
   "metadata": {
    "collapsed": true,
    "ExecuteTime": {
     "end_time": "2024-11-04T23:20:17.039217Z",
     "start_time": "2024-11-04T23:20:16.350420Z"
    }
   },
   "source": [
    "import numpy as np\n",
    "import pandas as pd\n",
    "import matplotlib.pyplot as plt\n",
    "import seaborn as sns\n",
    "from sklearn.model_selection import GridSearchCV"
   ],
   "outputs": [],
   "execution_count": 3
  },
  {
   "metadata": {
    "ExecuteTime": {
     "end_time": "2024-11-04T23:20:21.123527Z",
     "start_time": "2024-11-04T23:20:21.025852Z"
    }
   },
   "cell_type": "code",
   "source": [
    "#导入数据used_cars.csv\n",
    "used_car = pd.DataFrame(pd.read_csv(\"Dataset/used_cars.csv\"))"
   ],
   "id": "d09b6c0335c6bc8b",
   "outputs": [],
   "execution_count": 4
  },
  {
   "metadata": {
    "ExecuteTime": {
     "end_time": "2024-11-04T23:20:31.849098Z",
     "start_time": "2024-11-04T23:20:31.781960Z"
    }
   },
   "cell_type": "code",
   "source": [
    "# Data population\n",
    "used_car.describe()"
   ],
   "id": "54b0eb1e0138f777",
   "outputs": [
    {
     "data": {
      "text/plain": [
       "        Unnamed: 0         Year  Kilometers_Driven        Seats        Price\n",
       "count  5847.000000  5847.000000       5.847000e+03  5809.000000  5847.000000\n",
       "mean   3013.181461  2013.448435       5.841013e+04     5.286452     9.653742\n",
       "std    1736.398890     3.194949       9.237971e+04     0.806668    11.275966\n",
       "min       1.000000  1998.000000       1.710000e+02     2.000000     0.440000\n",
       "25%    1509.500000  2012.000000       3.346750e+04     5.000000     3.550000\n",
       "50%    3015.000000  2014.000000       5.257600e+04     5.000000     5.750000\n",
       "75%    4517.500000  2016.000000       7.249050e+04     5.000000    10.250000\n",
       "max    6018.000000  2019.000000       6.500000e+06    10.000000   160.000000"
      ],
      "text/html": [
       "<div>\n",
       "<style scoped>\n",
       "    .dataframe tbody tr th:only-of-type {\n",
       "        vertical-align: middle;\n",
       "    }\n",
       "\n",
       "    .dataframe tbody tr th {\n",
       "        vertical-align: top;\n",
       "    }\n",
       "\n",
       "    .dataframe thead th {\n",
       "        text-align: right;\n",
       "    }\n",
       "</style>\n",
       "<table border=\"1\" class=\"dataframe\">\n",
       "  <thead>\n",
       "    <tr style=\"text-align: right;\">\n",
       "      <th></th>\n",
       "      <th>Unnamed: 0</th>\n",
       "      <th>Year</th>\n",
       "      <th>Kilometers_Driven</th>\n",
       "      <th>Seats</th>\n",
       "      <th>Price</th>\n",
       "    </tr>\n",
       "  </thead>\n",
       "  <tbody>\n",
       "    <tr>\n",
       "      <th>count</th>\n",
       "      <td>5847.000000</td>\n",
       "      <td>5847.000000</td>\n",
       "      <td>5.847000e+03</td>\n",
       "      <td>5809.000000</td>\n",
       "      <td>5847.000000</td>\n",
       "    </tr>\n",
       "    <tr>\n",
       "      <th>mean</th>\n",
       "      <td>3013.181461</td>\n",
       "      <td>2013.448435</td>\n",
       "      <td>5.841013e+04</td>\n",
       "      <td>5.286452</td>\n",
       "      <td>9.653742</td>\n",
       "    </tr>\n",
       "    <tr>\n",
       "      <th>std</th>\n",
       "      <td>1736.398890</td>\n",
       "      <td>3.194949</td>\n",
       "      <td>9.237971e+04</td>\n",
       "      <td>0.806668</td>\n",
       "      <td>11.275966</td>\n",
       "    </tr>\n",
       "    <tr>\n",
       "      <th>min</th>\n",
       "      <td>1.000000</td>\n",
       "      <td>1998.000000</td>\n",
       "      <td>1.710000e+02</td>\n",
       "      <td>2.000000</td>\n",
       "      <td>0.440000</td>\n",
       "    </tr>\n",
       "    <tr>\n",
       "      <th>25%</th>\n",
       "      <td>1509.500000</td>\n",
       "      <td>2012.000000</td>\n",
       "      <td>3.346750e+04</td>\n",
       "      <td>5.000000</td>\n",
       "      <td>3.550000</td>\n",
       "    </tr>\n",
       "    <tr>\n",
       "      <th>50%</th>\n",
       "      <td>3015.000000</td>\n",
       "      <td>2014.000000</td>\n",
       "      <td>5.257600e+04</td>\n",
       "      <td>5.000000</td>\n",
       "      <td>5.750000</td>\n",
       "    </tr>\n",
       "    <tr>\n",
       "      <th>75%</th>\n",
       "      <td>4517.500000</td>\n",
       "      <td>2016.000000</td>\n",
       "      <td>7.249050e+04</td>\n",
       "      <td>5.000000</td>\n",
       "      <td>10.250000</td>\n",
       "    </tr>\n",
       "    <tr>\n",
       "      <th>max</th>\n",
       "      <td>6018.000000</td>\n",
       "      <td>2019.000000</td>\n",
       "      <td>6.500000e+06</td>\n",
       "      <td>10.000000</td>\n",
       "      <td>160.000000</td>\n",
       "    </tr>\n",
       "  </tbody>\n",
       "</table>\n",
       "</div>"
      ]
     },
     "execution_count": 5,
     "metadata": {},
     "output_type": "execute_result"
    }
   ],
   "execution_count": 5
  },
  {
   "metadata": {
    "ExecuteTime": {
     "end_time": "2024-11-04T23:21:05.812342Z",
     "start_time": "2024-11-04T23:21:05.748929Z"
    }
   },
   "cell_type": "code",
   "source": [
    "# Data Attribute\n",
    "\n",
    "used_car.info()"
   ],
   "id": "f62457d778a90bd7",
   "outputs": [
    {
     "name": "stdout",
     "output_type": "stream",
     "text": [
      "<class 'pandas.core.frame.DataFrame'>\n",
      "RangeIndex: 5847 entries, 0 to 5846\n",
      "Data columns (total 14 columns):\n",
      " #   Column             Non-Null Count  Dtype  \n",
      "---  ------             --------------  -----  \n",
      " 0   Unnamed: 0         5847 non-null   int64  \n",
      " 1   Name               5847 non-null   object \n",
      " 2   Location           5847 non-null   object \n",
      " 3   Year               5847 non-null   int64  \n",
      " 4   Kilometers_Driven  5847 non-null   int64  \n",
      " 5   Fuel_Type          5847 non-null   object \n",
      " 6   Transmission       5847 non-null   object \n",
      " 7   Owner_Type         5847 non-null   object \n",
      " 8   Mileage            5845 non-null   object \n",
      " 9   Engine             5811 non-null   object \n",
      " 10  Power              5811 non-null   object \n",
      " 11  Seats              5809 non-null   float64\n",
      " 12  New_Price          815 non-null    object \n",
      " 13  Price              5847 non-null   float64\n",
      "dtypes: float64(2), int64(3), object(9)\n",
      "memory usage: 639.6+ KB\n"
     ]
    }
   ],
   "execution_count": 6
  },
  {
   "metadata": {},
   "cell_type": "code",
   "outputs": [],
   "execution_count": null,
   "source": "",
   "id": "9b5912e50afc746c"
  },
  {
   "metadata": {},
   "cell_type": "code",
   "outputs": [],
   "execution_count": null,
   "source": "",
   "id": "43fb5a01990621de"
  },
  {
   "metadata": {},
   "cell_type": "code",
   "outputs": [],
   "execution_count": null,
   "source": "",
   "id": "647e67396e304ebc"
  },
  {
   "metadata": {},
   "cell_type": "code",
   "outputs": [],
   "execution_count": null,
   "source": "",
   "id": "7bf11a637c82990b"
  }
 ],
 "metadata": {
  "kernelspec": {
   "display_name": "Python 3",
   "language": "python",
   "name": "python3"
  },
  "language_info": {
   "codemirror_mode": {
    "name": "ipython",
    "version": 2
   },
   "file_extension": ".py",
   "mimetype": "text/x-python",
   "name": "python",
   "nbconvert_exporter": "python",
   "pygments_lexer": "ipython2",
   "version": "2.7.6"
  }
 },
 "nbformat": 4,
 "nbformat_minor": 5
}
